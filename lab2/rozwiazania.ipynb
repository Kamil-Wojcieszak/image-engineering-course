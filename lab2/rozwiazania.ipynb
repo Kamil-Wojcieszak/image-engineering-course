{
 "cells": [
  {
   "cell_type": "markdown",
   "metadata": {},
   "source": [
    "# Zadanie 1"
   ]
  },
  {
   "cell_type": "code",
   "execution_count": 63,
   "metadata": {},
   "outputs": [
    {
     "name": "stdout",
     "output_type": "stream",
     "text": [
      "something\n"
     ]
    }
   ],
   "source": [
    "print(\"something\")"
   ]
  },
  {
   "cell_type": "markdown",
   "metadata": {},
   "source": [
    "# Zadanie 2"
   ]
  },
  {
   "cell_type": "code",
   "execution_count": 64,
   "metadata": {},
   "outputs": [
    {
     "name": "stdout",
     "output_type": "stream",
     "text": [
      "  ______\n",
      "| Howdy? |\n",
      "  ======\n",
      "            \\\n",
      "             \\\n",
      "              \\\n",
      "               \\\n",
      "                                  .       .\n",
      "                                 / `.   .' \\\n",
      "                         .---.  <    > <    >  .---.\n",
      "                         |    \\  \\ - ~ ~ - /  /    |\n",
      "             _____        ~-..-~             ~-..-~\n",
      "            |     |   \\~~~\\.'                    `./~~~/\n",
      "           ---------   \\__/                        \\__/\n",
      "          .'  O    \\     /               /       \\  \"\n",
      "         (_____,    `._.'               |         }  \\/~~~/\n",
      "          `----.          /       }     |        /    \\__/\n",
      "                `-.      |       /      |       /      `. ,~~|\n",
      "                    ~-.__|      /_ - ~ ^|      /- _      `..-'   f:  f:\n",
      "                         |     /        |     /     ~-.     `-. _|| _||_\n",
      "                         |_____|        |_____|         ~ - . _ _ _ _ __>\n"
     ]
    }
   ],
   "source": [
    "import cowsay\n",
    "cowsay.stegosaurus(\"Howdy?\")\n"
   ]
  },
  {
   "cell_type": "markdown",
   "metadata": {},
   "source": [
    "# Zadanie 3"
   ]
  },
  {
   "cell_type": "code",
   "execution_count": 65,
   "metadata": {},
   "outputs": [],
   "source": [
    "import math\n",
    "\n",
    "def calculateSinus(x):\n",
    "    return math.sin(x)\n",
    "\n",
    "outFile = open(\"output.txt\", \"tw\")\n",
    "\n",
    "with open('input.txt') as input:\n",
    "    for line in input:\n",
    "        outFile.write(\"f(\"+line.replace(\"\\n\",\"\")+\") = \"+str(calculateSinus(float(line)))+\"\\n\")"
   ]
  },
  {
   "cell_type": "markdown",
   "metadata": {},
   "source": [
    "# Zadanie 4"
   ]
  },
  {
   "cell_type": "code",
   "execution_count": 66,
   "metadata": {},
   "outputs": [],
   "source": [
    "#\n",
    "class Product:\n",
    "    def __init__(self, call, cost, number):\n",
    "        self.name = call\n",
    "        self.price = cost\n",
    "        self.quantity = number\n",
    "        \n",
    "class Cart:\n",
    "    products = [Product(\"Pepper\", 3.20, 3), Product(\"Pumpkin\", 4.10, 1), Product(\"Apricot\", 1.21, 5),\n",
    "                Product(\"Almonds\", 7.99, 1), Product(\"Bananas\", 3.33, 2)]\n",
    "    \n",
    "    def add(self, product):\n",
    "        for prod in self.products:\n",
    "            if product == prod.name:\n",
    "                prod.quantity += 1\n",
    "                break\n",
    "        \n",
    "    def remove(self, product):\n",
    "        for prod in self.products:\n",
    "            if product == prod.name:\n",
    "                if prod.quantity > 0:\n",
    "                    prod.quantity -= 1\n",
    "                break\n",
    "                \n",
    "    def total_price(self):\n",
    "        summ = 0.0\n",
    "        for prod in self.products:\n",
    "            summ += prod.price * prod.quantity\n",
    "        return round(summ, 2)\n",
    "    \n",
    "myCart = Cart()\n",
    "print(myCart.total_price())\n",
    "myCart.add(\"Pepper\")\n",
    "print(myCart.total_price())\n",
    "myCart.add(\"Walnuts\")\n",
    "print(myCart.total_price())\n",
    "myCart.remove(\"Tears\")\n",
    "print(myCart.total_price())\n",
    "myCart.remove(\"Bananas\")\n",
    "print(myCart.total_price())\n",
    "#"
   ]
  },
  {
   "cell_type": "markdown",
   "metadata": {},
   "source": [
    "# Zadanie 5"
   ]
  },
  {
   "cell_type": "code",
   "execution_count": 67,
   "metadata": {},
   "outputs": [
    {
     "name": "stdout",
     "output_type": "stream",
     "text": [
      "Pepper: 3\n",
      "Pumpkin: 1\n",
      "Apricot: 5\n",
      "Almonds: 1\n",
      "Bananas: 2\n",
      "Total number: 12\n",
      "Pepper 3.2\n",
      "Pumpkin 4.1\n",
      "Apricot 1.21\n",
      "Almonds 7.99\n",
      "Bananas 3.33\n"
     ]
    }
   ],
   "source": [
    "#\n",
    "class Product:\n",
    "    def __init__(self, call, cost, number):\n",
    "        self.name = call\n",
    "        self.price = cost\n",
    "        self.quantity = number\n",
    "        \n",
    "    def __str__(self):\n",
    "        return self.name + \" \" + str(self.price)\n",
    "        \n",
    "class Cart:\n",
    "    products = [Product(\"Pepper\", 3.20, 3), Product(\"Pumpkin\", 4.10, 1), Product(\"Apricot\", 1.21, 5),\n",
    "                Product(\"Almonds\", 7.99, 1), Product(\"Bananas\", 3.33, 2)]\n",
    "    \n",
    "    def __len__(self):\n",
    "        size = 0\n",
    "        for prod in self.products:\n",
    "            size += prod.quantity\n",
    "        return size\n",
    "    \n",
    "    def __str__(self):\n",
    "        string = \"\"\n",
    "        for prod in self.products:\n",
    "            string += prod.name + \": \" + str(prod.quantity) + \"\\n\"\n",
    "        return string\n",
    "    \n",
    "    def __iter__(self):\n",
    "        self.n = 0\n",
    "        self.max = len(self.products) - 1\n",
    "        return self\n",
    "        \n",
    "    def __next__(self):\n",
    "        if self.n <= self.max:\n",
    "            obj = self.products[self.n]\n",
    "            self.n += 1\n",
    "            return obj\n",
    "        else:\n",
    "            raise StopIteration\n",
    "    \n",
    "    def add(self, product):\n",
    "        for prod in self.products:\n",
    "            if product == prod.name:\n",
    "                prod.quantity += 1\n",
    "                break\n",
    "        \n",
    "    def remove(self, product):\n",
    "        for prod in self.products:\n",
    "            if product == prod.name:\n",
    "                if prod.quantity > 0:\n",
    "                    prod.quantity -= 1\n",
    "                break\n",
    "                \n",
    "    def total_price(self):\n",
    "        summ = 0.0\n",
    "        for prod in self.products:\n",
    "            summ += prod.price * prod.quantity\n",
    "        return round(summ, 2)\n",
    "    \n",
    "koszyk = Cart()\n",
    "print(str(koszyk) + \"Total number: \" + str(len(koszyk)))\n",
    "for produkt in koszyk:\n",
    "    print(str(produkt))"
   ]
  }
 ],
 "metadata": {
  "kernelspec": {
   "display_name": "Python 3",
   "language": "python",
   "name": "python3"
  },
  "language_info": {
   "codemirror_mode": {
    "name": "ipython",
    "version": 3
   },
   "file_extension": ".py",
   "mimetype": "text/x-python",
   "name": "python",
   "nbconvert_exporter": "python",
   "pygments_lexer": "ipython3",
   "version": "3.11.6"
  }
 },
 "nbformat": 4,
 "nbformat_minor": 4
}
